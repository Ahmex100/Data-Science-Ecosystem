{
 "cells": [
  {
   "cell_type": "markdown",
   "id": "c9cf4867",
   "metadata": {},
   "source": [
    "# Data Science Tools and Ecosystem"
   ]
  },
  {
   "cell_type": "markdown",
   "id": "c3f471bf",
   "metadata": {},
   "source": [
    "# In this Course Data Science Tools and Ecosystem are summariezd "
   ]
  },
  {
   "cell_type": "markdown",
   "id": "3bdcf6fd",
   "metadata": {},
   "source": [
    "# Objectives:\n",
    "\n",
    "- List popular Languages in Data Science\n",
    "- List commonly used libraries in Data Sience \n",
    "- List Data science open source development tools\n",
    "- Introduce arithmetic expressions in python  \n",
    "- Example of using arithmetic expressions"
   ]
  },
  {
   "cell_type": "markdown",
   "id": "29150f91",
   "metadata": {},
   "source": [
    "## Some of the Popular Data Science Langauges are:\n",
    "- Python\n",
    "- R\n",
    "- Julia\n",
    "- SQL"
   ]
  },
  {
   "cell_type": "markdown",
   "id": "e0c92b0c",
   "metadata": {},
   "source": [
    "##  Some of the commonly used libraries used by Data Scientists include:\n",
    "* Numpy\n",
    "* Panda\n",
    "* SciPy\n",
    "* Seaborn\n",
    "* Metaplot"
   ]
  },
  {
   "cell_type": "markdown",
   "id": "faba23c4",
   "metadata": {},
   "source": [
    "| Data Science Tools |\n",
    "| ------ |\n",
    "| Jupyter Notebooks |\n",
    "| RStudios |\n",
    "| Zeppelin Notebooks |"
   ]
  },
  {
   "cell_type": "markdown",
   "id": "09ebbeab",
   "metadata": {},
   "source": [
    " ### Below are a few examples of evaluating arithmetic expressions in Python"
   ]
  },
  {
   "cell_type": "code",
   "execution_count": 2,
   "id": "6ebc2752",
   "metadata": {},
   "outputs": [
    {
     "data": {
      "text/plain": [
       "17"
      ]
     },
     "execution_count": 2,
     "metadata": {},
     "output_type": "execute_result"
    }
   ],
   "source": [
    "# This a simple arithmetic expression to mutiply then add integers\n",
    "(3*4)+5"
   ]
  },
  {
   "cell_type": "code",
   "execution_count": 9,
   "id": "fd79411d",
   "metadata": {},
   "outputs": [
    {
     "name": "stdout",
     "output_type": "stream",
     "text": [
      "3.3333333333333335\n"
     ]
    }
   ],
   "source": [
    "#This will convert 200 minutes to hours by diving by 60\n",
    "minutes = 200\n",
    "hours = minutes / 60\n",
    "print (hours)"
   ]
  },
  {
   "cell_type": "markdown",
   "id": "8e89e9b0",
   "metadata": {},
   "source": [
    "## Author\n",
    "Ahmed Reda Elseddik"
   ]
  },
  {
   "cell_type": "code",
   "execution_count": null,
   "id": "e6f16e9e",
   "metadata": {},
   "outputs": [],
   "source": []
  }
 ],
 "metadata": {
  "kernelspec": {
   "display_name": "Python 3 (ipykernel)",
   "language": "python",
   "name": "python3"
  },
  "language_info": {
   "codemirror_mode": {
    "name": "ipython",
    "version": 3
   },
   "file_extension": ".py",
   "mimetype": "text/x-python",
   "name": "python",
   "nbconvert_exporter": "python",
   "pygments_lexer": "ipython3",
   "version": "3.11.5"
  }
 },
 "nbformat": 4,
 "nbformat_minor": 5
}
